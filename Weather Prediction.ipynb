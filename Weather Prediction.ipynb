{
 "cells": [
  {
   "cell_type": "markdown",
   "id": "16740256-6c15-4300-ba81-0d8c1b27725c",
   "metadata": {},
   "source": [
    "QUESTION: Can we use past weather data to predict future weather conditions?"
   ]
  },
  {
   "cell_type": "markdown",
   "id": "26ea73d2-ad5d-4d9f-9647-dc0e830fd651",
   "metadata": {},
   "source": [
    "# Step 1: Install Required Libraries"
   ]
  },
  {
   "cell_type": "code",
   "execution_count": null,
   "id": "30640861-3d2d-4e4b-9ecf-f6cb1c3cf9f5",
   "metadata": {},
   "outputs": [],
   "source": [
    "!pip install pandas numpy matplotlib seaborn scikit-learn"
   ]
  },
  {
   "cell_type": "markdown",
   "id": "c513b9cd-4836-40fa-b760-bc123c0194b1",
   "metadata": {},
   "source": [
    "# Step 2: Load the Weather Dataset"
   ]
  },
  {
   "cell_type": "code",
   "execution_count": null,
   "id": "46200b62-d5fa-42df-a639-6564e6603973",
   "metadata": {},
   "outputs": [],
   "source": [
    "import pandas as pd\n",
    "\n",
    "# URL of the dataset on Zenodo\n",
    "url = 'https://zenodo.org/record/4770937/files/weather_prediction_dataset.csv'\n",
    "\n",
    "# Load the dataset into a Pandas DataFrame\n",
    "df = pd.read_csv(url)\n",
    "\n",
    "# Display the first few rows of dataset\n",
    "print(df.head())"
   ]
  },
  {
   "cell_type": "code",
   "execution_count": null,
   "id": "b8314adc-6b4a-48fc-89f6-49a86e6ab7f3",
   "metadata": {},
   "outputs": [],
   "source": [
    "# Display basic info on the dataset\n",
    "df.info()"
   ]
  },
  {
   "cell_type": "code",
   "execution_count": null,
   "id": "976d16cd-9bd2-426c-bd6d-540099df0687",
   "metadata": {},
   "outputs": [],
   "source": [
    "# Display summary statistics\n",
    "print(df.describe())"
   ]
  },
  {
   "cell_type": "markdown",
   "id": "73b00f01-6d8f-4b32-8bec-cf77dddd2e60",
   "metadata": {},
   "source": [
    "# Step 3: Check Missing Values"
   ]
  },
  {
   "cell_type": "code",
   "execution_count": null,
   "id": "414a6b9f-a185-4db7-a49f-ba07687c47b7",
   "metadata": {},
   "outputs": [],
   "source": [
    "print(df.isnull().sum())"
   ]
  },
  {
   "cell_type": "markdown",
   "id": "10c83969-3c0c-451d-bbc1-07279e2bce92",
   "metadata": {},
   "source": [
    "# Step 4: Data Preprocessing"
   ]
  },
  {
   "cell_type": "code",
   "execution_count": null,
   "id": "23bbed8d-9c30-4dd4-832b-5f00c454ca9c",
   "metadata": {},
   "outputs": [],
   "source": [
    "# 1.Handle missing Values\n",
    "df=df.dropna()"
   ]
  },
  {
   "cell_type": "code",
   "execution_count": null,
   "id": "ed574179-41f0-4e11-a635-e1e994d70417",
   "metadata": {},
   "outputs": [],
   "source": [
    "# 2. Perform on-hot encoding on categorical variables\n",
    "df=pd.get_dummies(df, drop_first=True)"
   ]
  },
  {
   "cell_type": "code",
   "execution_count": null,
   "id": "bea2ceb0-b0e8-495c-90ee-d47788246c0f",
   "metadata": {},
   "outputs": [],
   "source": [
    "# 3. Feature Selection \n",
    "# Define featrues and target variable\n",
    "\n",
    "X = df.drop('BASEL_temp_mean', axis=1)\n",
    "y = df['BASEL_temp_mean']"
   ]
  },
  {
   "cell_type": "markdown",
   "id": "0898600f-73b8-413f-b45f-7e4c328ee112",
   "metadata": {},
   "source": [
    "# Step 5: Split the data "
   ]
  },
  {
   "cell_type": "code",
   "execution_count": null,
   "id": "07975a8a-3c58-43d9-ace9-fd73f14f5125",
   "metadata": {},
   "outputs": [],
   "source": [
    "from sklearn.model_selection import train_test_split\n",
    "\n",
    "#Split the data\n",
    "X_train, X_test, y_train, y_test = train_test_split(X, y, test_size=0.2, random_state=42)"
   ]
  },
  {
   "cell_type": "markdown",
   "id": "12c6e3f8-2a77-4087-a0b2-b9851f899073",
   "metadata": {},
   "source": [
    "# Step 6: Build and Train the Model"
   ]
  },
  {
   "cell_type": "code",
   "execution_count": null,
   "id": "a2fea0ca-90bd-4db0-8c71-040e9406eacb",
   "metadata": {},
   "outputs": [],
   "source": [
    "from sklearn.linear_model import LinearRegression\n",
    "\n",
    "# Initialize the model\n",
    "model = LinearRegression()\n",
    "\n",
    "# Train the Model\n",
    "model.fit(X_train, y_train)"
   ]
  },
  {
   "cell_type": "markdown",
   "id": "641d26c3-59a3-497e-ac5c-4bcb525166b8",
   "metadata": {},
   "source": [
    "# Step 7: Evaluate the Model"
   ]
  },
  {
   "cell_type": "code",
   "execution_count": null,
   "id": "2c78b718-cee7-49e6-81ef-5adde40f0a31",
   "metadata": {},
   "outputs": [],
   "source": [
    "from sklearn.metrics import mean_squared_error, r2_score\n",
    "\n",
    "# Make Predictions\n",
    "y_pred = model.predict(X_test)\n",
    "\n",
    "# Calculate Mean Squared Error\n",
    "mse = mean_squared_error(y_test, y_pred)\n",
    "print(f'Mean Squared Error: {mse}')\n",
    "\n",
    "# Calculate R-Squared Score\n",
    "r2 = r2_score(y_test, y_pred)\n",
    "print(f'R-Squared Score\" {r2}') "
   ]
  },
  {
   "cell_type": "markdown",
   "id": "3c97a43c-7925-4ca6-9186-905cf18602fa",
   "metadata": {},
   "source": [
    "# Step 8: Visualize the Results"
   ]
  },
  {
   "cell_type": "code",
   "execution_count": null,
   "id": "ceac3d46-5f83-47ec-b9f3-9cd463e507e6",
   "metadata": {},
   "outputs": [],
   "source": [
    "import matplotlib.pyplot as plt\n",
    "\n",
    "# Plot actual vs. predicted values\n",
    "plt.scatter(y_test, y_pred)\n",
    "plt.xlabel('Acual Values')\n",
    "plt.ylabel('Predicted Values')\n",
    "plt.title('Actual vs. Predicted Weather Conditions')\n",
    "plt.show()"
   ]
  },
  {
   "cell_type": "markdown",
   "id": "ea2ce9b6-b60f-4adc-9762-b41e19b5eec0",
   "metadata": {},
   "source": [
    "please Subscribe to my YouTube Channel: https://www.youtube.com/@datageekismyname \n",
    "I give free notebook, python code, and so much learning. All I ask is to subscribe and support my channel. \n",
    "Thank you. "
   ]
  }
 ],
 "metadata": {
  "kernelspec": {
   "display_name": "Python 3 (ipykernel)",
   "language": "python",
   "name": "python3"
  },
  "language_info": {
   "codemirror_mode": {
    "name": "ipython",
    "version": 3
   },
   "file_extension": ".py",
   "mimetype": "text/x-python",
   "name": "python",
   "nbconvert_exporter": "python",
   "pygments_lexer": "ipython3",
   "version": "3.12.7"
  }
 },
 "nbformat": 4,
 "nbformat_minor": 5
}
